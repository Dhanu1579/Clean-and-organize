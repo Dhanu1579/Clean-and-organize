{
 "cells": [
  {
   "cell_type": "code",
   "execution_count": 1,
   "id": "3b31a22b-cf87-44f9-9a4c-200d4dce4756",
   "metadata": {},
   "outputs": [],
   "source": [
    "import pandas as pd"
   ]
  },
  {
   "cell_type": "code",
   "execution_count": 3,
   "id": "9ec2443a-4e98-41a4-8557-2eab8a40c894",
   "metadata": {},
   "outputs": [],
   "source": [
    "df = pd.read_csv('/Users/dhanushsiddharthapinjerla/Desktop/Elevate labs/project/Shark Tank India.csv')"
   ]
  },
  {
   "cell_type": "code",
   "execution_count": 12,
   "id": "92c75227-c293-48f0-a10b-8fa19cd28e34",
   "metadata": {},
   "outputs": [],
   "source": [
    "df.columns = [c.strip().lower().replace(\" \", \"_\") for c in df.columns]"
   ]
  },
  {
   "cell_type": "code",
   "execution_count": 23,
   "id": "b1e01e18-029b-4b7d-bb25-6352b474ce7f",
   "metadata": {},
   "outputs": [
    {
     "name": "stdout",
     "output_type": "stream",
     "text": [
      " Dataset loaded successfully.\n",
      "Shape: (634, 80)\n",
      "Columns: Index(['season_number', 'startup_name', 'episode_number', 'pitch_number',\n",
      "       'season_start', 'season_end', 'original_air_date', 'episode_title',\n",
      "       'anchor', 'industry'],\n",
      "      dtype='object')\n"
     ]
    }
   ],
   "source": [
    "print(\" Dataset loaded successfully.\")\n",
    "print(f\"Shape: {df.shape}\")\n",
    "print(\"Columns:\", df.columns[:10])"
   ]
  },
  {
   "cell_type": "code",
   "execution_count": 24,
   "id": "ecca7104-01b1-4548-82d4-0b7ee614e89a",
   "metadata": {},
   "outputs": [],
   "source": [
    "cols_needed = [\n",
    "    \"startup_name\", \"industry\", \"original_ask_amount\", \"total_deal_amount\",\n",
    "    \"number_of_sharks_in_deal\", \"total_deal_equity\", \"number_of_presenters\"\n",
    "]\n"
   ]
  },
  {
   "cell_type": "code",
   "execution_count": 25,
   "id": "d74a115f-de5b-44f3-9f5e-5b76b99be9c0",
   "metadata": {},
   "outputs": [],
   "source": [
    "subset = df[cols_needed].copy()"
   ]
  },
  {
   "cell_type": "code",
   "execution_count": 26,
   "id": "fd5fc0ef-3ac4-4684-9f0e-98218507e75a",
   "metadata": {},
   "outputs": [],
   "source": [
    "for col in [\"original_ask_amount\", \"total_deal_amount\"]:\n",
    "    subset[col] = (\n",
    "        subset[col]\n",
    "        .astype(str)\n",
    "        .str.replace(\"[₹,]\", \"\", regex=True)  # remove ₹ and commas\n",
    "        .str.extract(\"(\\d+\\.?\\d*)\")[0]        # extract numbers only\n",
    "        .astype(float)\n",
    "    )"
   ]
  },
  {
   "cell_type": "code",
   "execution_count": 27,
   "id": "6532000c-5513-440e-8025-3753d77665dc",
   "metadata": {},
   "outputs": [],
   "source": [
    "subset[\"funded_flag\"] = subset[\"total_deal_amount\"].notna() & (subset[\"total_deal_amount\"] > 0)"
   ]
  },
  {
   "cell_type": "code",
   "execution_count": 28,
   "id": "eb9db3c7-71c9-4437-86ac-03f9520b012d",
   "metadata": {},
   "outputs": [],
   "source": [
    "industry_summary = subset.groupby(\"industry\").agg(\n",
    "    total_startups=(\"startup_name\", \"count\"),\n",
    "    funded_startups=(\"funded_flag\", \"sum\"),\n",
    "    total_funding=(\"total_deal_amount\", \"sum\"),\n",
    "    avg_funding=(\"total_deal_amount\", \"mean\")\n",
    ").reset_index().sort_values(\"total_funding\", ascending=False)"
   ]
  },
  {
   "cell_type": "code",
   "execution_count": 29,
   "id": "87001c3b-7dc3-40db-9048-ca602b430d35",
   "metadata": {},
   "outputs": [],
   "source": [
    "founder_success = subset.groupby(\"number_of_presenters\").agg(\n",
    "    total=(\"startup_name\", \"count\"),\n",
    "    funded=(\"funded_flag\", \"sum\")\n",
    ").reset_index()"
   ]
  },
  {
   "cell_type": "code",
   "execution_count": 30,
   "id": "13527ad6-0cae-436f-9426-4435b5068fd3",
   "metadata": {},
   "outputs": [],
   "source": [
    "founder_success[\"success_rate_%\"] = (founder_success[\"funded\"] / founder_success[\"total\"]) * 100\n"
   ]
  },
  {
   "cell_type": "code",
   "execution_count": 31,
   "id": "7cc49403-a8f4-4fd8-b70f-05ed561fc692",
   "metadata": {},
   "outputs": [],
   "source": [
    "subset.to_csv(\"Cleaned_SharkTank_Main.csv\", index=False)\n",
    "industry_summary.to_csv(\"Tableau_Industry_Summary.csv\", index=False)\n",
    "founder_success.to_csv(\"Tableau_Founder_Success.csv\", index=False)"
   ]
  },
  {
   "cell_type": "code",
   "execution_count": 32,
   "id": "dd7d63f9-9b0f-47fd-b452-f64298884ab5",
   "metadata": {},
   "outputs": [
    {
     "name": "stdout",
     "output_type": "stream",
     "text": [
      " Files exported successfully:\n",
      "   - Cleaned_SharkTank_Main.csv\n",
      "   - Tableau_Industry_Summary.csv\n",
      "   - Tableau_Founder_Success.csv\n"
     ]
    }
   ],
   "source": [
    "print(\" Files exported successfully:\")\n",
    "print(\"   - Cleaned_SharkTank_Main.csv\")\n",
    "print(\"   - Tableau_Industry_Summary.csv\")\n",
    "print(\"   - Tableau_Founder_Success.csv\")"
   ]
  },
  {
   "cell_type": "code",
   "execution_count": 33,
   "id": "60f490fe-70c8-4ea4-a583-12c833b57519",
   "metadata": {},
   "outputs": [
    {
     "name": "stdout",
     "output_type": "stream",
     "text": [
      "\n",
      " Top 5 Industries by Total Funding:\n",
      "               industry  total_startups  funded_startups  total_funding  \\\n",
      "2        Beauty/Fashion             127               74     5938.00000   \n",
      "8     Food and Beverage             142               82     5372.60000   \n",
      "14       Medical/Health              56               41     3383.00101   \n",
      "16  Technology/Software              58               36     2887.00000   \n",
      "13        Manufacturing              52               26     1631.00000   \n",
      "\n",
      "    avg_funding  \n",
      "2     80.243243  \n",
      "8     65.519512  \n",
      "14    82.512220  \n",
      "16    80.194444  \n",
      "13    62.730769  \n"
     ]
    }
   ],
   "source": [
    "print(\"\\n Top 5 Industries by Total Funding:\")\n",
    "print(industry_summary.head())"
   ]
  },
  {
   "cell_type": "code",
   "execution_count": 34,
   "id": "07a28098-b638-4af0-9771-d46850c48afc",
   "metadata": {},
   "outputs": [
    {
     "name": "stdout",
     "output_type": "stream",
     "text": [
      "\n",
      " Founder Success Summary:\n",
      "   number_of_presenters  total  funded  success_rate_%\n",
      "0                     1    165      94       56.969697\n",
      "1                     2    334     188       56.287425\n",
      "2                     3    110      65       59.090909\n",
      "3                     4     21      12       57.142857\n",
      "4                     5      3       0        0.000000\n",
      "5                     6      1       0        0.000000\n"
     ]
    }
   ],
   "source": [
    "print(\"\\n Founder Success Summary:\")\n",
    "print(founder_success)"
   ]
  },
  {
   "cell_type": "code",
   "execution_count": null,
   "id": "f1bbdc40-0579-4477-9d52-16dbb0d6dd06",
   "metadata": {},
   "outputs": [],
   "source": []
  }
 ],
 "metadata": {
  "kernelspec": {
   "display_name": "Python [conda env:base] *",
   "language": "python",
   "name": "conda-base-py"
  },
  "language_info": {
   "codemirror_mode": {
    "name": "ipython",
    "version": 3
   },
   "file_extension": ".py",
   "mimetype": "text/x-python",
   "name": "python",
   "nbconvert_exporter": "python",
   "pygments_lexer": "ipython3",
   "version": "3.13.5"
  }
 },
 "nbformat": 4,
 "nbformat_minor": 5
}
